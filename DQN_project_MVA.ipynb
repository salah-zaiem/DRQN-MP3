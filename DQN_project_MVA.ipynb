{
  "nbformat": 4,
  "nbformat_minor": 0,
  "metadata": {
    "colab": {
      "name": "DQN_project_MVA.ipynb",
      "version": "0.3.2",
      "provenance": [],
      "collapsed_sections": []
    },
    "kernelspec": {
      "name": "python3",
      "display_name": "Python 3"
    },
    "accelerator": "GPU"
  },
  "cells": [
    {
      "metadata": {
        "id": "cgr4Py7pn-ZW",
        "colab_type": "text"
      },
      "cell_type": "markdown",
      "source": [
        "**You may need to install [OpenCV](https://pypi.python.org/pypi/opencv-python) and [scikit-video](http://www.scikit-video.org/stable/).**"
      ]
    },
    {
      "metadata": {
        "id": "DoS711qPsKMq",
        "colab_type": "code",
        "outputId": "b680fd65-cfcb-4cf7-b996-0da39d920046",
        "colab": {
          "base_uri": "https://localhost:8080/",
          "height": 177
        }
      },
      "cell_type": "code",
      "source": [
        "! pip install scikit-video"
      ],
      "execution_count": 0,
      "outputs": [
        {
          "output_type": "stream",
          "text": [
            "Collecting scikit-video\n",
            "\u001b[?25l  Downloading https://files.pythonhosted.org/packages/b1/a6/c69cad508139a342810ae46e946ebb3256aa6e42f690d901bb68f50582e3/scikit_video-1.1.11-py2.py3-none-any.whl (2.3MB)\n",
            "\u001b[K    100% |████████████████████████████████| 2.3MB 12.0MB/s \n",
            "\u001b[?25hRequirement already satisfied: numpy in /usr/local/lib/python3.6/dist-packages (from scikit-video) (1.14.6)\n",
            "Requirement already satisfied: pillow in /usr/local/lib/python3.6/dist-packages (from scikit-video) (4.0.0)\n",
            "Requirement already satisfied: scipy in /usr/local/lib/python3.6/dist-packages (from scikit-video) (1.1.0)\n",
            "Requirement already satisfied: olefile in /usr/local/lib/python3.6/dist-packages (from pillow->scikit-video) (0.46)\n",
            "Installing collected packages: scikit-video\n",
            "Successfully installed scikit-video-1.1.11\n"
          ],
          "name": "stdout"
        }
      ]
    },
    {
      "metadata": {
        "id": "Mm1BEITrn-ZZ",
        "colab_type": "code",
        "outputId": "c6bc4b1a-2a8c-4545-ecb9-eee10f546122",
        "colab": {
          "base_uri": "https://localhost:8080/",
          "height": 52
        }
      },
      "cell_type": "code",
      "source": [
        "import keras\n",
        "import numpy as np\n",
        "import io\n",
        "import base64\n",
        "from IPython.display import HTML\n",
        "import skvideo\n",
        "import skvideo.io\n",
        "import cv2\n",
        "import json\n",
        "skvideo.setFFmpegPath(\"/usr/local/bin\")\n",
        "import skvideo.io\n",
        "\n",
        "\n",
        "\n",
        "from keras.models import Sequential,model_from_json\n",
        "from keras.layers.core import Dense, Flatten\n",
        "from keras.optimizers import sgd\n",
        "from keras.layers import Conv2D, MaxPooling2D, Activation, AveragePooling2D,Reshape,BatchNormalization"
      ],
      "execution_count": 0,
      "outputs": [
        {
          "output_type": "stream",
          "text": [
            "/usr/local/lib/python3.6/dist-packages/skvideo/__init__.py:306: UserWarning: ffmpeg/ffprobe not found in path: /usr/local/bin\n",
            "  warnings.warn(\"ffmpeg/ffprobe not found in path: \" + str(path), UserWarning)\n"
          ],
          "name": "stderr"
        }
      ]
    },
    {
      "metadata": {
        "id": "HiHINTRPn-Zp",
        "colab_type": "text"
      },
      "cell_type": "markdown",
      "source": [
        "# MiniProject #3: Deep Reinforcement Learning"
      ]
    },
    {
      "metadata": {
        "id": "JgaN4FnOn-Zr",
        "colab_type": "text"
      },
      "cell_type": "markdown",
      "source": [
        "__Notations__: $E_p$ is the expectation under probability $p$. Please justify each of your answer and widely comment your code."
      ]
    },
    {
      "metadata": {
        "id": "8Z-mLGmDn-Zt",
        "colab_type": "text"
      },
      "cell_type": "markdown",
      "source": [
        "# Context"
      ]
    },
    {
      "metadata": {
        "id": "pvqFNsywn-Zv",
        "colab_type": "text"
      },
      "cell_type": "markdown",
      "source": [
        "In a reinforcement learning algorithm, we modelize each step $t$ as an action $a_t$ obtained from a state $s_t$, i.e. $\\{(a_{t},s_{t})_{t\\leq T}\\}$ having the Markov property. We consider a discount factor $\\gamma \\in [0,1]$ that ensures convergence. The goal is to find among all the policies $\\pi$, one that maximizes the expected reward:\n",
        "\n",
        "\\begin{equation*}\n",
        "R(\\pi)=\\sum_{t\\leq T}E_{p^{\\pi}}[\\gamma^t r(s_{t},a_{t})] \\> ,\n",
        "\\end{equation*}\n",
        "\n",
        "where: \n",
        "\\begin{equation*}p^{\\pi}(a_{0},a_{1},s_{1},...,a_{T},s_{T})=p(a_{0})\\prod_{t=1}^{T}\\pi(a_{t}|s_{t})p(s_{t+1}|s_{t},a_{t}) \\> .\n",
        "\\end{equation*}\n",
        "\n",
        "We note the $Q$-function:\n",
        "\n",
        "\\begin{equation*}Q^\\pi(s,a)=E_{p^{\\pi}}[\\sum_{t\\leq T}\\gamma^{t}r(s_{t},a_{t})|s_{0}=s,a_{0}=a] \\> .\n",
        "\\end{equation*}\n",
        "\n",
        "Thus, the optimal Q function is:\n",
        "\\begin{equation*}\n",
        "Q^*(s,a)=\\max_{\\pi}Q^\\pi(s,a) \\> .\n",
        "\\end{equation*}\n",
        "\n",
        "In this project, we will apply the deep reinforcement learning techniques to a simple game: an agent will have to learn from scratch a policy that will permit it maximizing a reward."
      ]
    },
    {
      "metadata": {
        "id": "ChOKj75Sn-Zw",
        "colab_type": "text"
      },
      "cell_type": "markdown",
      "source": [
        "## The environment, the agent and the game"
      ]
    },
    {
      "metadata": {
        "id": "NVjwkFHCn-Z1",
        "colab_type": "text"
      },
      "cell_type": "markdown",
      "source": [
        "### The environment"
      ]
    },
    {
      "metadata": {
        "id": "OqCGtrzhn-Z3",
        "colab_type": "text"
      },
      "cell_type": "markdown",
      "source": [
        "```Environment``` is an abstract class that represents the states, rewards, and actions to obtain the new state."
      ]
    },
    {
      "metadata": {
        "id": "p0xFh39qn-Z4",
        "colab_type": "code",
        "colab": {}
      },
      "cell_type": "code",
      "source": [
        "class Environment(object):\n",
        "    def __init__(self):\n",
        "        pass\n",
        "\n",
        "    def act(self, act):\n",
        "        \"\"\"\n",
        "        One can act on the environment and obtain its reaction:\n",
        "        - the new state\n",
        "        - the reward of the new state\n",
        "        - should we continue the game?\n",
        "\n",
        "        :return: state, reward, game_over\n",
        "        \"\"\"\n",
        "        pass\n",
        "\n",
        "\n",
        "    def reset(self):\n",
        "        \"\"\"\n",
        "        Reinitialize the environment to a random state and returns\n",
        "        the original state\n",
        "\n",
        "        :return: state\n",
        "        \"\"\"\n",
        "        pass\n",
        "    \n",
        "    def draw(self):\n",
        "        \"\"\"\n",
        "        Visualize in the console or graphically the current state\n",
        "        \"\"\"\n",
        "        pass"
      ],
      "execution_count": 0,
      "outputs": []
    },
    {
      "metadata": {
        "id": "uSGdfaJ1n-Z9",
        "colab_type": "text"
      },
      "cell_type": "markdown",
      "source": [
        "The method ```act``` allows to act on the environment at a given state $s_t$ (stored internally), via action $a_t$. The method will return the new state $s_{t+1}$, the reward $r(s_{t},a_{t})$ and determines if $t\\leq T$ (*game_over*).\n",
        "\n",
        "The method ```reset``` simply reinitializes the environment to a random state $s_0$.\n",
        "\n",
        "The method ```draw``` displays the current state $s_t$ (this is useful to check the behavior of the Agent).\n",
        "\n",
        "We modelize $s_t$ as a tensor, while $a_t$ is an integer."
      ]
    },
    {
      "metadata": {
        "id": "I0jDQCGSn-aB",
        "colab_type": "text"
      },
      "cell_type": "markdown",
      "source": [
        "### The Agent"
      ]
    },
    {
      "metadata": {
        "id": "GiFVzlBqn-aE",
        "colab_type": "text"
      },
      "cell_type": "markdown",
      "source": [
        "The goal of the ```Agent``` is to interact with the ```Environment``` by proposing actions $a_t$ obtained from a given state $s_t$ to attempt to maximize its __reward__ $r(s_t,a_t)$. We propose the following abstract class:"
      ]
    },
    {
      "metadata": {
        "id": "gK74sE0xn-aF",
        "colab_type": "code",
        "colab": {}
      },
      "cell_type": "code",
      "source": [
        "class Agent(object):\n",
        "    def __init__(self, epsilon=0.1, n_action=4):\n",
        "        self.epsilon = epsilon\n",
        "        self.n_action = n_action\n",
        "    \n",
        "    def set_epsilon(self,e):\n",
        "        self.epsilon = e\n",
        "\n",
        "    def act(self,s,train=True):\n",
        "        \"\"\" This function should return the next action to do:\n",
        "        an integer between 0 and 4 (not included) with a random exploration of epsilon\"\"\"\n",
        "        if train:\n",
        "            if np.random.rand() <= self.epsilon:\n",
        "                a = np.random.randint(0, self.n_action, size=1)[0]\n",
        "            else:\n",
        "                a = self.learned_act(s)\n",
        "        else: # in some cases, this can improve the performance.. remove it if poor performances\n",
        "            a = self.learned_act(s)\n",
        "\n",
        "        return a\n",
        "\n",
        "    def learned_act(self,s):\n",
        "        \"\"\" Act via the policy of the agent, from a given state s\n",
        "        it proposes an action a\"\"\"\n",
        "        pass\n",
        "\n",
        "    def reinforce(self, s, n_s, a, r, game_over_):\n",
        "        \"\"\" This function is the core of the learning algorithm. \n",
        "        It takes as an input the current state s_, the next state n_s_\n",
        "        the action a_ used to move from s_ to n_s_ and the reward r_.\n",
        "        \n",
        "        Its goal is to learn a policy.\n",
        "        \"\"\"\n",
        "        pass\n",
        "\n",
        "    def save(self):\n",
        "        \"\"\" This function returns basic stats if applicable: the\n",
        "        loss and/or the model\"\"\"\n",
        "        pass\n",
        "\n",
        "    def load(self):\n",
        "        \"\"\" This function allows to restore a model\"\"\"\n",
        "        pass"
      ],
      "execution_count": 0,
      "outputs": []
    },
    {
      "metadata": {
        "id": "oEugZYD-n-aM",
        "colab_type": "text"
      },
      "cell_type": "markdown",
      "source": [
        "\n",
        "\n",
        "__Question 1__:\n",
        "Explain the function act. Why is ```epsilon``` essential?\n",
        "\n",
        "The function \"act\" separates two cases : training and testing. During training, the epsilon value intervenes for exploration. At each choice, the agent takes its action randomly with a probability epsilon. This is essential to allow the agent to explore other strategies that may have better outcomes than the ones it has been using before. \n",
        "\n",
        "After training, during the test phase, as the exploration part is over, we just want to exploit our discoveries, so the agent chooses the action with the best predicted outcome. \n",
        "\n",
        "\n"
      ]
    },
    {
      "metadata": {
        "id": "ZyM0-FX6n-aR",
        "colab_type": "text"
      },
      "cell_type": "markdown",
      "source": [
        "***\n",
        "### The Game"
      ]
    },
    {
      "metadata": {
        "id": "2sTMrUr4n-aW",
        "colab_type": "text"
      },
      "cell_type": "markdown",
      "source": [
        "The ```Agent``` and the ```Environment``` work in an interlaced way as in the following (take some time to understand this code as it is the core of the project)\n",
        "\n",
        "```python\n",
        "\n",
        "epoch = 300\n",
        "env = Environment()\n",
        "agent = Agent()\n",
        "\n",
        "\n",
        "# Number of won games\n",
        "score = 0\n",
        "loss = 0\n",
        "\n",
        "\n",
        "for e in range(epoch):\n",
        "    # At each epoch, we restart to a fresh game and get the initial state\n",
        "    state = env.reset()\n",
        "    # This assumes that the games will end\n",
        "    game_over = False\n",
        "\n",
        "    win = 0\n",
        "    lose = 0\n",
        "    \n",
        "    while not game_over:\n",
        "        # The agent performs an action\n",
        "        action = agent.act(state)\n",
        "\n",
        "        # Apply an action to the environment, get the next state, the reward\n",
        "        # and if the games end\n",
        "        prev_state = state\n",
        "        state, reward, game_over = env.act(action)\n",
        "\n",
        "        # Update the counters\n",
        "        if reward > 0:\n",
        "            win = win + reward\n",
        "        if reward < 0:\n",
        "            lose = lose -reward\n",
        "\n",
        "        # Apply the reinforcement strategy\n",
        "        loss = agent.reinforce(prev_state, state,  action, reward, game_over)\n",
        "\n",
        "    # Save as a mp4\n",
        "    if e % 10 == 0:\n",
        "        env.draw(e)\n",
        "\n",
        "    # Update stats\n",
        "    score += win-lose\n",
        "\n",
        "    print(\"Epoch {:03d}/{:03d} | Loss {:.4f} | Win/lose count {}/{} ({})\"\n",
        "          .format(e, epoch, loss, win, lose, win-lose))\n",
        "    agent.save()\n",
        "```"
      ]
    },
    {
      "metadata": {
        "id": "X2JYycUin-aY",
        "colab_type": "text"
      },
      "cell_type": "markdown",
      "source": [
        "# The game, *eat cheese*"
      ]
    },
    {
      "metadata": {
        "id": "Ssb2c8wan-aa",
        "colab_type": "text"
      },
      "cell_type": "markdown",
      "source": [
        "A rat runs on an island and tries to eat as much as possible. The island is subdivided into $N\\times N$ cells, in which there are cheese (+0.5) and poisonous cells (-1). The rat has a visibility of 2 cells (thus it can see $5^2$ cells). The rat is given a time $T$ to accumulate as much food as possible. It can perform 4 actions: going up, down, left, right. \n",
        "\n",
        "The goal is to code an agent to solve this task that will learn by trial and error. We propose the following environment:"
      ]
    },
    {
      "metadata": {
        "id": "5vcbCo5Zn-ad",
        "colab_type": "code",
        "colab": {}
      },
      "cell_type": "code",
      "source": [
        "class Environment(object):\n",
        "    def __init__(self, grid_size=10, max_time=500, temperature=0.1):\n",
        "        grid_size = grid_size+4\n",
        "        self.grid_size = grid_size\n",
        "        self.max_time = max_time\n",
        "        self.temperature = temperature\n",
        "\n",
        "        #board on which one plays\n",
        "        self.board = np.zeros((grid_size,grid_size))\n",
        "        self.position = np.zeros((grid_size,grid_size))\n",
        "\n",
        "        # coordinate of the cat\n",
        "        self.x = 0\n",
        "        self.y = 1\n",
        "\n",
        "        # self time\n",
        "        self.t = 0\n",
        "\n",
        "        self.scale=16\n",
        "\n",
        "        self.to_draw = np.zeros((max_time+2, grid_size*self.scale, grid_size*self.scale, 3))\n",
        "\n",
        "\n",
        "    def draw(self,e):\n",
        "        skvideo.io.vwrite(str(e) + '.mp4', self.to_draw)\n",
        "\n",
        "    def get_frame(self,t):\n",
        "        b = np.zeros((self.grid_size,self.grid_size,3))+128\n",
        "        b[self.board>0,0] = 256\n",
        "        b[self.board < 0, 2] = 256\n",
        "        b[self.x,self.y,:]=256\n",
        "        b[-2:,:,:]=0\n",
        "        b[:,-2:,:]=0\n",
        "        b[:2,:,:]=0\n",
        "        b[:,:2,:]=0\n",
        "        \n",
        "        b =  cv2.resize(b, None, fx=self.scale, fy=self.scale, interpolation=cv2.INTER_NEAREST)\n",
        "\n",
        "        self.to_draw[t,:,:,:]=b\n",
        "\n",
        "\n",
        "    def act(self, action):\n",
        "        \"\"\"This function returns the new state, reward and decides if the\n",
        "        game ends.\"\"\"\n",
        "\n",
        "        self.get_frame(int(self.t))\n",
        "\n",
        "        self.position = np.zeros((self.grid_size, self.grid_size))\n",
        "\n",
        "        self.position[0:2,:]= -1\n",
        "        self.position[:,0:2] = -1\n",
        "        self.position[-2:, :] = -1\n",
        "        self.position[-2:, :] = -1\n",
        "\n",
        "        self.position[self.x, self.y] = 1\n",
        "        if action == 0:\n",
        "            if self.x == self.grid_size-3:\n",
        "                self.x = self.x-1\n",
        "            else:\n",
        "                self.x = self.x + 1\n",
        "        elif action == 1:\n",
        "            if self.x == 2:\n",
        "                self.x = self.x+1\n",
        "            else:\n",
        "                self.x = self.x-1\n",
        "        elif action == 2:\n",
        "            if self.y == self.grid_size - 3:\n",
        "                self.y = self.y - 1\n",
        "            else:\n",
        "                self.y = self.y + 1\n",
        "        elif action == 3:\n",
        "            if self.y == 2:\n",
        "                self.y = self.y + 1\n",
        "            else:\n",
        "                self.y = self.y - 1\n",
        "        else:\n",
        "            RuntimeError('Error: action not recognized')\n",
        "\n",
        "        self.t = self.t + 1\n",
        "        reward = self.board[self.x, self.y]\n",
        "        self.board[self.x, self.y] = 0\n",
        "        game_over = self.t > self.max_time\n",
        "        state = np.concatenate((self.board.reshape(self.grid_size, self.grid_size,1),\n",
        "                        self.position.reshape(self.grid_size, self.grid_size,1)),axis=2)\n",
        "        state = state[self.x-2:self.x+3,self.y-2:self.y+3,:]\n",
        "\n",
        "        return state, reward, game_over\n",
        "\n",
        "    def reset(self):\n",
        "        \"\"\"This function resets the game and returns the initial state\"\"\"\n",
        "\n",
        "        self.x = np.random.randint(3, self.grid_size-3, size=1)[0]\n",
        "        self.y = np.random.randint(3, self.grid_size-3, size=1)[0]\n",
        "\n",
        "\n",
        "        bonus = 0.5*np.random.binomial(1,self.temperature,size=self.grid_size**2)\n",
        "        bonus = bonus.reshape(self.grid_size,self.grid_size)\n",
        "\n",
        "        malus = -1.0*np.random.binomial(1,self.temperature,size=self.grid_size**2)\n",
        "        malus = malus.reshape(self.grid_size, self.grid_size)\n",
        "\n",
        "        self.to_draw = np.zeros((self.max_time+2, self.grid_size*self.scale, self.grid_size*self.scale, 3))\n",
        "\n",
        "\n",
        "        malus[bonus>0]=0\n",
        "\n",
        "        self.board = bonus + malus\n",
        "\n",
        "        self.position = np.zeros((self.grid_size, self.grid_size))\n",
        "        self.position[0:2,:]= -1\n",
        "        self.position[:,0:2] = -1\n",
        "        self.position[-2:, :] = -1\n",
        "        self.position[-2:, :] = -1\n",
        "        self.board[self.x,self.y] = 0\n",
        "        self.t = 0\n",
        "\n",
        "        state = np.concatenate((\n",
        "                               self.board.reshape(self.grid_size, self.grid_size,1),\n",
        "                        self.position.reshape(self.grid_size, self.grid_size,1)),axis=2)\n",
        "\n",
        "        state = state[self.x - 2:self.x + 3, self.y - 2:self.y + 3, :]\n",
        "        return state"
      ],
      "execution_count": 0,
      "outputs": []
    },
    {
      "metadata": {
        "id": "qyI2AXSGn-ai",
        "colab_type": "text"
      },
      "cell_type": "markdown",
      "source": [
        "The following elements are important because they correspond to the hyper parameters for this project:"
      ]
    },
    {
      "metadata": {
        "id": "ytP4a1uwn-am",
        "colab_type": "code",
        "colab": {}
      },
      "cell_type": "code",
      "source": [
        "# parameters\n",
        "size = 13\n",
        "T=200\n",
        "temperature=0.3\n",
        "epochs_train=50 # set small when debugging\n",
        "epochs_test=10 # set small when debugging\n",
        "\n",
        "# display videos\n",
        "def display_videos(name):\n",
        "    video = io.open(name, 'r+b').read()\n",
        "    encoded = base64.b64encode(video)\n",
        "    return '''<video alt=\"test\" controls>\n",
        "                <source src=\"data:video/mp4;base64,{0}\" type=\"video/mp4\" />\n",
        "             </video>'''.format(encoded.decode('ascii'))"
      ],
      "execution_count": 0,
      "outputs": []
    },
    {
      "metadata": {
        "id": "6XAEg3tKn-at",
        "colab_type": "text"
      },
      "cell_type": "markdown",
      "source": [
        "__Question 2__ Explain the use of the arrays ```position``` and ```board```."
      ]
    },
    {
      "metadata": {
        "id": "InxezQPkn-au",
        "colab_type": "text"
      },
      "cell_type": "markdown",
      "source": [
        "The Board stocks the information concerning the content of each cell ( cheese, poisons) and therefore is important for attributing the reward after each action.  \\\\\n",
        "\n",
        "Position shows which cells are visible by the agent, and on which cell is it. It also gives information about the boundaries in the map."
      ]
    },
    {
      "metadata": {
        "id": "V449tAM1n-aw",
        "colab_type": "text"
      },
      "cell_type": "markdown",
      "source": [
        "## Random Agent"
      ]
    },
    {
      "metadata": {
        "id": "U5yoCtaVn-ay",
        "colab_type": "text"
      },
      "cell_type": "markdown",
      "source": [
        "***\n",
        "__Question 3__ Implement a random Agent (only ```learned_act``` needs to be implemented):"
      ]
    },
    {
      "metadata": {
        "id": "r9JS5s-Un-a0",
        "colab_type": "code",
        "colab": {}
      },
      "cell_type": "code",
      "source": [
        "class RandomAgent(Agent):\n",
        "    def __init__(self):\n",
        "        super(RandomAgent, self).__init__()\n",
        "        pass\n",
        "\n",
        "    def learned_act(self, s):\n",
        "        return np.random.randint(4)\n",
        "        "
      ],
      "execution_count": 0,
      "outputs": []
    },
    {
      "metadata": {
        "id": "eZZdJaInn-a8",
        "colab_type": "text"
      },
      "cell_type": "markdown",
      "source": [
        "***\n",
        "***\n",
        "__Question 4__ Visualize the game moves. You need to fill in the following function for the evaluation:"
      ]
    },
    {
      "metadata": {
        "id": "Red9Lh0an-a-",
        "colab_type": "code",
        "colab": {}
      },
      "cell_type": "code",
      "source": [
        "def test(agent,env,epochs,prefix=''):\n",
        "    # Number of won games\n",
        "    score = 0\n",
        "        \n",
        "    for e in range(epochs):\n",
        "      state = env.reset()\n",
        "      # This assumes that the games will end\n",
        "      game_over = False\n",
        "\n",
        "      win = 0\n",
        "      lose = 0\n",
        "\n",
        "      while not game_over:\n",
        "          # The agent performs an action\n",
        "          action = agent.act(state)\n",
        "\n",
        "          # Apply an action to the environment, get the next state, the reward\n",
        "          # and if the games end\n",
        "          prev_state = state\n",
        "          state, reward, game_over = env.act(action)\n",
        "\n",
        "          # Update the counters\n",
        "          if reward > 0:\n",
        "              win = win + reward\n",
        "          if reward < 0:\n",
        "              lose = lose -reward\n",
        "\n",
        "          # Apply the reinforcement strategy\n",
        "          loss = agent.reinforce(prev_state, state,  action, reward, game_over)\n",
        "\n",
        "        \n",
        "        \n",
        "        ##### FILL IN HERE\n",
        "        \n",
        "      # Save as a mp4\n",
        "      env.draw(prefix+str(e))\n",
        "\n",
        "      # Update stats\n",
        "      score = score + win-lose\n",
        "\n",
        "      print(\"Win/lose count {}/{}. Average score ({})\"\n",
        "            .format(win, lose, score/(1+e)))\n",
        "      print('Final score: '+str(score/epochs))"
      ],
      "execution_count": 0,
      "outputs": []
    },
    {
      "metadata": {
        "id": "rA0OoyxNn-bB",
        "colab_type": "code",
        "outputId": "705ce1ec-1c21-4afa-fd63-02592327b185",
        "colab": {
          "base_uri": "https://localhost:8080/",
          "height": 526
        }
      },
      "cell_type": "code",
      "source": [
        "# Initialize the game\n",
        "env = Environment(grid_size=size, max_time=T,temperature=temperature)\n",
        "\n",
        "# Initialize the agent!\n",
        "agent = RandomAgent()\n",
        "\n",
        "test(agent,env,epochs_test,prefix='random')\n",
        "HTML(display_videos('random0.mp4'))"
      ],
      "execution_count": 0,
      "outputs": [
        {
          "output_type": "stream",
          "text": [
            "Win/lose count 14.0/18.0. Average score (-4.0)\n",
            "Final score: -0.4\n",
            "Win/lose count 10.0/12.0. Average score (-3.0)\n",
            "Final score: -0.6\n",
            "Win/lose count 9.5/17.0. Average score (-4.5)\n",
            "Final score: -1.35\n",
            "Win/lose count 12.0/11.0. Average score (-3.125)\n",
            "Final score: -1.25\n",
            "Win/lose count 12.0/12.0. Average score (-2.5)\n",
            "Final score: -1.25\n",
            "Win/lose count 11.0/11.0. Average score (-2.0833333333333335)\n",
            "Final score: -1.25\n",
            "Win/lose count 12.0/6.0. Average score (-0.9285714285714286)\n",
            "Final score: -0.65\n",
            "Win/lose count 5.0/7.0. Average score (-1.0625)\n",
            "Final score: -0.85\n",
            "Win/lose count 11.0/20.0. Average score (-1.9444444444444444)\n",
            "Final score: -1.75\n",
            "Win/lose count 9.0/9.0. Average score (-1.75)\n",
            "Final score: -1.75\n"
          ],
          "name": "stdout"
        },
        {
          "output_type": "execute_result",
          "data": {
            "text/html": [
              "<video alt=\"test\" controls>\n",
              "                <source src=\"data:video/mp4;base64,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\" type=\"video/mp4\" />\n",
              "             </video>"
            ],
            "text/plain": [
              "<IPython.core.display.HTML object>"
            ]
          },
          "metadata": {
            "tags": []
          },
          "execution_count": 11
        }
      ]
    },
    {
      "metadata": {
        "id": "7Bzu1zYtn-bI",
        "colab_type": "text"
      },
      "cell_type": "markdown",
      "source": [
        "***\n",
        "## DQN"
      ]
    },
    {
      "metadata": {
        "id": "lPGEV8Fln-bK",
        "colab_type": "text"
      },
      "cell_type": "markdown",
      "source": [
        "Let us assume here that $T=\\infty$.\n",
        "\n",
        "***\n",
        "__Question 5__ Let $\\pi$ be a policy, show that:\n",
        "\n",
        "\\begin{equation*}\n",
        "Q^{\\pi}(s,a)=E_{(s',a')\\sim p(.|s,a)}[r(s,a)+\\gamma Q^{\\pi}(s',a')]\n",
        "\\end{equation*}\n",
        "\n",
        "Then, show that for the optimal policy $\\pi^*$ (we assume its existence), the following holds: \n",
        "\n",
        "\\begin{equation*}\n",
        "Q^{*}(s,a)=E_{s'\\sim \\pi^*(.|s,a)}[r(s,a)+\\gamma\\max_{a'}Q^{*}(s',a')].\n",
        "\\end{equation*}\n",
        "Finally, deduce that a plausible objective is:\n",
        "\n",
        "\\begin{equation*}\n",
        "\\mathcal{L}(\\theta)=E_{s' \\sim \\pi^*(.|s,a)}\\Vert r+\\gamma\\max\\max_{a'}Q(s',a',\\theta)-Q(s,a,\\theta)\\Vert^{2}.\n",
        "\\end{equation*}\n",
        "\n",
        "\n"
      ]
    },
    {
      "metadata": {
        "id": "Bosn8IoKn-bN",
        "colab_type": "text"
      },
      "cell_type": "markdown",
      "source": [
        "\n",
        "\n",
        "\n",
        "If our Q-table depicts the optimal policy, the previous equality holds. Therefore, the absolute difference between the two parts of the equation is a suitable loss objective for our problem. This is also the case for the squared difference. \n",
        "and  : \n",
        "\\begin{equation*}\n",
        "\\mathcal{L}(\\theta)=E_{s' \\sim \\pi^*(.|s,a)}\\Vert r+\\gamma\\max\\max_{a'}Q(s',a',\\theta)-Q(s,a,\\theta)\\Vert^{2}.\n",
        "\\end{equation*}\n",
        "\n",
        "is a plausible objective for our learning problem."
      ]
    },
    {
      "metadata": {
        "id": "iHKazaZQn-bO",
        "colab_type": "text"
      },
      "cell_type": "markdown",
      "source": [
        "***\n",
        "The DQN-learning algorithm relies on these derivations to train the parameters $\\theta$ of a Deep Neural Network:\n",
        "\n",
        "1. At the state $s_t$, select the action $a_t$ with best reward using $Q_t$ and store the results;\n",
        "\n",
        "2. Obtain the new state $s_{t+1}$ from the environment $p$;\n",
        "\n",
        "3. Store $(s_t,a_t,s_{t+1})$;\n",
        "\n",
        "4. Obtain $Q_{t+1}$ by minimizing  $\\mathcal{L}$ from a recovered batch from the previously stored results.\n",
        "\n",
        "***\n",
        "__Question 6__ Implement the class ```Memory``` that stores moves (in a replay buffer) via ```remember``` and provides a ```random_access``` to these. Specify a maximum memory size to avoid side effects. You can for example use a ```list()``` and set by default ```max_memory=100```."
      ]
    },
    {
      "metadata": {
        "id": "6hDgYL8qn-bP",
        "colab_type": "code",
        "colab": {}
      },
      "cell_type": "code",
      "source": [
        "class Memory(object):\n",
        "    def __init__(self, max_memory=100):\n",
        "        self.max_memory = max_memory\n",
        "        self.memory = list()\n",
        "\n",
        "    def remember(self, m):\n",
        "        self.memory.append(m)\n",
        "        if len(self.memory)>self.max_memory:\n",
        "            del self.memory[0]\n",
        "            # Pop the first element if the memory is exceeded\n",
        "\n",
        "    def random_access(self):\n",
        "      return (self.memory[np.random.randint(len(self.memory))])\n"
      ],
      "execution_count": 0,
      "outputs": []
    },
    {
      "metadata": {
        "id": "GKfKDvk2n-bY",
        "colab_type": "text"
      },
      "cell_type": "markdown",
      "source": [
        "***\n",
        "The pipeline we will use for training is given below:"
      ]
    },
    {
      "metadata": {
        "id": "l604Lcnmn-bb",
        "colab_type": "code",
        "colab": {}
      },
      "cell_type": "code",
      "source": [
        "def train(agent,env,epoch,prefix=''):\n",
        "    # Number of won games\n",
        "    score = 0\n",
        "    loss = 0\n",
        "\n",
        "    for e in range(epoch):\n",
        "        print(\"new episode : \" + str(e))\n",
        "        # At each epoch, we restart to a fresh game and get the initial state\n",
        "        state = env.reset()\n",
        "        # This assumes that the games will terminate\n",
        "        game_over = False\n",
        "\n",
        "        win = 0\n",
        "        lose = 0\n",
        "\n",
        "        while not game_over:\n",
        "            # The agent performs an action\n",
        "            \n",
        "            action = agent.act(state)\n",
        "\n",
        "            # Apply an action to the environment, get the next state, the reward\n",
        "            # and if the games end\n",
        "            prev_state = state\n",
        "            state, reward, game_over = env.act(action)\n",
        "\n",
        "            # Update the counters\n",
        "            if reward > 0:\n",
        "                win = win + reward\n",
        "            if reward < 0:\n",
        "                lose = lose -reward\n",
        "\n",
        "            # Apply the reinforcement strategy\n",
        "            loss = agent.reinforce(prev_state, state,  action, reward, game_over)\n",
        "\n",
        "        # Save as a mp4\n",
        "        if e % 10 == 0:\n",
        "            env.draw(prefix+str(e))\n",
        "\n",
        "        # Update stats\n",
        "        score += win-lose\n",
        "\n",
        "        print(\"Epoch {:03d}/{:03d} | Loss {:.4f} | Win/lose count {}/{} ({})\"\n",
        "              .format(e, epoch, loss, win, lose, win-lose))\n",
        "        agent.save(name_weights=prefix+'model.h5',name_model=prefix+'model.json')"
      ],
      "execution_count": 0,
      "outputs": []
    },
    {
      "metadata": {
        "id": "RhX2nHgin-bf",
        "colab_type": "text"
      },
      "cell_type": "markdown",
      "source": [
        "***\n",
        "__Question 7__ Implement the DQN training algorithm using a cascade of fully connected layers. You can use different learning rate, batch size or memory size parameters. In particular, the loss might oscillate while the player will start to win the games. You have to find a good criterium."
      ]
    },
    {
      "metadata": {
        "id": "xRzpKf8Jn-bg",
        "colab_type": "code",
        "colab": {}
      },
      "cell_type": "code",
      "source": [
        "class DQN(Agent):\n",
        "    def __init__(self, grid_size,  epsilon = 0.1, memory_size=100, batch_size = 16,n_state=2):\n",
        "        super(DQN, self).__init__(epsilon = epsilon)\n",
        "\n",
        "        # Discount for Q learning\n",
        "        self.discount = 0.99\n",
        "        \n",
        "        self.grid_size = grid_size\n",
        "        \n",
        "        # number of state\n",
        "        self.n_state = n_state\n",
        "\n",
        "        # Memory\n",
        "        \n",
        "        self.memory = Memory(memory_size)\n",
        "        \n",
        "        # Batch size when learning\n",
        "        self.batch_size = batch_size\n",
        "\n",
        "    def learned_act(self, s):\n",
        "        predictions =  self.model.predict(np.reshape(s, (1,5,5,self.n_state)))\n",
        "        action = np.argmax(predictions[0,:])\n",
        "        return action\n",
        "    def reinforce(self, s_, n_s_, a_, r_, game_over_):\n",
        "        # Two steps: first memorize the states, second learn from the pool\n",
        "        self.memory.remember([s_, n_s_, a_, r_, game_over_])\n",
        "        \n",
        "        input_states = np.zeros((self.batch_size, 5,5,self.n_state))\n",
        "        target_q = np.zeros((self.batch_size, 4))\n",
        "        \n",
        "        for i in range(self.batch_size):\n",
        "            s_, n_s_, a_, r_, game_over_ =  self.memory.random_access()\n",
        "            input_states[i] = s_\n",
        "            q_target = self.model.predict(np.reshape(s_, (1,5,5,self.n_state)))\n",
        "            target_q [i] = q_target\n",
        "\n",
        "            if game_over_:\n",
        "              target_q[i,a_] = r_\n",
        "            else:\n",
        "              target_q[i, a_] = r_  + self.discount *np.max(self.model.predict(np.reshape(n_s_, (1,5,5,self.n_state))))\n",
        "        # HINT: Clip the target to avoid exploiding gradients.. -- clipping is a bit tighter\n",
        "        \n",
        "        target_q = np.clip(target_q, -3, 3)\n",
        "\n",
        "        l = self.model.train_on_batch(input_states, target_q)\n",
        "\n",
        "\n",
        "        return l\n",
        "\n",
        "    def save(self,name_weights='model.h5',name_model='model.json'):\n",
        "        self.model.save_weights(name_weights, overwrite=True)\n",
        "        with open(name_model, \"w\") as outfile:\n",
        "            json.dump(self.model.to_json(), outfile)\n",
        "            \n",
        "    def load(self,name_weights='model.h5',name_model='model.json'):\n",
        "        with open(name_model, \"r\") as jfile:\n",
        "            model = model_from_json(json.load(jfile))\n",
        "        model.load_weights(name_weights)\n",
        "        model.compile(\"sgd\", \"mse\")\n",
        "        self.model = model\n",
        "\n",
        "            \n",
        "class DQN_FC(DQN):\n",
        "    def __init__(self, *args, lr=0.1,**kwargs):\n",
        "        super(DQN_FC, self).__init__( *args,**kwargs)\n",
        "        \n",
        "        # NN Model\n",
        "        model = Sequential()\n",
        "        model.add(Flatten(input_shape=((5,5,2))))\n",
        "        model.add(Dense(64, activation = \"relu\"))\n",
        "        # 4 = Output Shape , number of possible actions  \n",
        "            \n",
        "        model.add(Dense(4))\n",
        "        \n",
        "        model.compile(sgd(lr=lr, decay=1e-4, momentum=0.0), \"mse\")\n",
        "        model.summary()\n",
        "        self.model = model\n",
        "        "
      ],
      "execution_count": 0,
      "outputs": []
    },
    {
      "metadata": {
        "id": "xhkO1kz5n-bl",
        "colab_type": "code",
        "outputId": "9aeab807-2842-4aa2-913a-ecebd49129be",
        "colab": {
          "base_uri": "https://localhost:8080/",
          "height": 2180
        }
      },
      "cell_type": "code",
      "source": [
        "env = Environment(grid_size=size, max_time=T, temperature=0.3)\n",
        "agent = DQN_FC(size, lr=.1, epsilon = 0.1, memory_size=2000, batch_size = 32)\n",
        "train(agent, env, epochs_train, prefix='fc_train')\n",
        "HTML(display_videos('fc_train0.mp4'))"
      ],
      "execution_count": 0,
      "outputs": [
        {
          "output_type": "stream",
          "text": [
            "_________________________________________________________________\n",
            "Layer (type)                 Output Shape              Param #   \n",
            "=================================================================\n",
            "flatten_3 (Flatten)          (None, 50)                0         \n",
            "_________________________________________________________________\n",
            "dense_5 (Dense)              (None, 64)                3264      \n",
            "_________________________________________________________________\n",
            "dense_6 (Dense)              (None, 4)                 260       \n",
            "=================================================================\n",
            "Total params: 3,524\n",
            "Trainable params: 3,524\n",
            "Non-trainable params: 0\n",
            "_________________________________________________________________\n",
            "new episode : 0\n",
            "Epoch 000/050 | Loss 0.0068 | Win/lose count 5.5/8.0 (-2.5)\n",
            "new episode : 1\n",
            "Epoch 001/050 | Loss 0.0111 | Win/lose count 2.0/1.0 (1.0)\n",
            "new episode : 2\n",
            "Epoch 002/050 | Loss 0.0128 | Win/lose count 1.0/8.0 (-7.0)\n",
            "new episode : 3\n",
            "Epoch 003/050 | Loss 0.0190 | Win/lose count 5.5/5.0 (0.5)\n",
            "new episode : 4\n",
            "Epoch 004/050 | Loss 0.0083 | Win/lose count 3.0/3.0 (0.0)\n",
            "new episode : 5\n",
            "Epoch 005/050 | Loss 0.0045 | Win/lose count 4.0/1.0 (3.0)\n",
            "new episode : 6\n",
            "Epoch 006/050 | Loss 0.0022 | Win/lose count 1.5/5.0 (-3.5)\n",
            "new episode : 7\n",
            "Epoch 007/050 | Loss 0.0098 | Win/lose count 3.5/6.0 (-2.5)\n",
            "new episode : 8\n",
            "Epoch 008/050 | Loss 0.0724 | Win/lose count 1.5/3.0 (-1.5)\n",
            "new episode : 9\n",
            "Epoch 009/050 | Loss 0.0047 | Win/lose count 2.0/2.0 (0.0)\n",
            "new episode : 10\n",
            "Epoch 010/050 | Loss 0.0039 | Win/lose count 5.0/3.0 (2.0)\n",
            "new episode : 11\n",
            "Epoch 011/050 | Loss 0.0054 | Win/lose count 3.0/9.0 (-6.0)\n",
            "new episode : 12\n",
            "Epoch 012/050 | Loss 0.0719 | Win/lose count 7.0/6.0 (1.0)\n",
            "new episode : 13\n",
            "Epoch 013/050 | Loss 0.0067 | Win/lose count 3.0/1.0 (2.0)\n",
            "new episode : 14\n",
            "Epoch 014/050 | Loss 0.0103 | Win/lose count 0.5/3.0 (-2.5)\n",
            "new episode : 15\n",
            "Epoch 015/050 | Loss 0.0537 | Win/lose count 3.5/0 (3.5)\n",
            "new episode : 16\n",
            "Epoch 016/050 | Loss 0.0065 | Win/lose count 3.0/4.0 (-1.0)\n",
            "new episode : 17\n",
            "Epoch 017/050 | Loss 0.0033 | Win/lose count 8.0/4.0 (4.0)\n",
            "new episode : 18\n",
            "Epoch 018/050 | Loss 0.0055 | Win/lose count 3.0/0 (3.0)\n",
            "new episode : 19\n",
            "Epoch 019/050 | Loss 0.0043 | Win/lose count 9.0/3.0 (6.0)\n",
            "new episode : 20\n",
            "Epoch 020/050 | Loss 0.0043 | Win/lose count 4.0/5.0 (-1.0)\n",
            "new episode : 21\n",
            "Epoch 021/050 | Loss 0.0036 | Win/lose count 5.0/2.0 (3.0)\n",
            "new episode : 22\n",
            "Epoch 022/050 | Loss 0.0022 | Win/lose count 6.0/2.0 (4.0)\n",
            "new episode : 23\n",
            "Epoch 023/050 | Loss 0.0064 | Win/lose count 8.0/2.0 (6.0)\n",
            "new episode : 24\n",
            "Epoch 024/050 | Loss 0.0033 | Win/lose count 7.0/4.0 (3.0)\n",
            "new episode : 25\n",
            "Epoch 025/050 | Loss 0.0017 | Win/lose count 7.0/1.0 (6.0)\n",
            "new episode : 26\n",
            "Epoch 026/050 | Loss 0.0030 | Win/lose count 5.0/3.0 (2.0)\n",
            "new episode : 27\n",
            "Epoch 027/050 | Loss 0.0023 | Win/lose count 4.0/1.0 (3.0)\n",
            "new episode : 28\n",
            "Epoch 028/050 | Loss 0.0049 | Win/lose count 11.5/1.0 (10.5)\n",
            "new episode : 29\n",
            "Epoch 029/050 | Loss 0.0058 | Win/lose count 11.0/4.0 (7.0)\n",
            "new episode : 30\n",
            "Epoch 030/050 | Loss 0.0035 | Win/lose count 3.0/1.0 (2.0)\n",
            "new episode : 31\n",
            "Epoch 031/050 | Loss 0.0106 | Win/lose count 14.0/7.0 (7.0)\n",
            "new episode : 32\n",
            "Epoch 032/050 | Loss 0.0024 | Win/lose count 4.5/2.0 (2.5)\n",
            "new episode : 33\n",
            "Epoch 033/050 | Loss 0.0029 | Win/lose count 5.0/5.0 (0.0)\n",
            "new episode : 34\n",
            "Epoch 034/050 | Loss 0.0551 | Win/lose count 4.5/2.0 (2.5)\n",
            "new episode : 35\n",
            "Epoch 035/050 | Loss 0.0065 | Win/lose count 6.0/1.0 (5.0)\n",
            "new episode : 36\n",
            "Epoch 036/050 | Loss 0.0021 | Win/lose count 5.5/5.0 (0.5)\n",
            "new episode : 37\n",
            "Epoch 037/050 | Loss 0.0017 | Win/lose count 6.0/1.0 (5.0)\n",
            "new episode : 38\n",
            "Epoch 038/050 | Loss 0.0100 | Win/lose count 12.0/2.0 (10.0)\n",
            "new episode : 39\n",
            "Epoch 039/050 | Loss 0.0028 | Win/lose count 8.5/6.0 (2.5)\n",
            "new episode : 40\n",
            "Epoch 040/050 | Loss 0.0041 | Win/lose count 14.0/1.0 (13.0)\n",
            "new episode : 41\n",
            "Epoch 041/050 | Loss 0.0034 | Win/lose count 5.5/2.0 (3.5)\n",
            "new episode : 42\n",
            "Epoch 042/050 | Loss 0.0023 | Win/lose count 5.5/0 (5.5)\n",
            "new episode : 43\n",
            "Epoch 043/050 | Loss 0.0024 | Win/lose count 7.5/2.0 (5.5)\n",
            "new episode : 44\n",
            "Epoch 044/050 | Loss 0.0037 | Win/lose count 7.0/2.0 (5.0)\n",
            "new episode : 45\n",
            "Epoch 045/050 | Loss 0.0021 | Win/lose count 9.0/2.0 (7.0)\n",
            "new episode : 46\n",
            "Epoch 046/050 | Loss 0.0062 | Win/lose count 9.5/2.0 (7.5)\n",
            "new episode : 47\n",
            "Epoch 047/050 | Loss 0.0049 | Win/lose count 10.0/2.0 (8.0)\n",
            "new episode : 48\n",
            "Epoch 048/050 | Loss 0.0081 | Win/lose count 11.5/2.0 (9.5)\n",
            "new episode : 49\n",
            "Epoch 049/050 | Loss 0.0024 | Win/lose count 3.5/2.0 (1.5)\n"
          ],
          "name": "stdout"
        },
        {
          "output_type": "execute_result",
          "data": {
            "text/html": [
              "<video alt=\"test\" controls>\n",
              "                <source src=\"data:video/mp4;base64,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\" type=\"video/mp4\" />\n",
              "             </video>"
            ],
            "text/plain": [
              "<IPython.core.display.HTML object>"
            ]
          },
          "metadata": {
            "tags": []
          },
          "execution_count": 18
        }
      ]
    },
    {
      "metadata": {
        "id": "EmzT7bNvn-bw",
        "colab_type": "text"
      },
      "cell_type": "markdown",
      "source": [
        "***\n",
        "***\n",
        "__Question 8__ Implement the DQN training algorithm using a CNN (for example, 2 convolutional layers and one final fully connected layer)."
      ]
    },
    {
      "metadata": {
        "id": "xOXYsVcbn-bw",
        "colab_type": "code",
        "colab": {}
      },
      "cell_type": "code",
      "source": [
        "class DQN_CNN(DQN):\n",
        "    def __init__(self, *args,lr=0.1,**kwargs):\n",
        "        super(DQN_CNN, self).__init__(*args,**kwargs)\n",
        "        model = Sequential()\n",
        "        model.add(Conv2D(50,(2,2),input_shape=(5,5,self.n_state,),activation='relu'))\n",
        "        model.add(Conv2D(30,(2,2),activation='relu'))\n",
        "        model.add(Flatten())\n",
        "        model.add(Dense(4))\n",
        "        model.compile(sgd(lr=lr, decay=1e-4, momentum=0.0), \"mse\")\n",
        "        self.model = model\n"
      ],
      "execution_count": 0,
      "outputs": []
    },
    {
      "metadata": {
        "id": "4EBHZbcPn-b0",
        "colab_type": "code",
        "outputId": "a25ec000-b488-4dd8-fb77-0c04ea4650da",
        "colab": {
          "base_uri": "https://localhost:8080/",
          "height": 1948
        }
      },
      "cell_type": "code",
      "source": [
        "env = Environment(grid_size=size, max_time=T, temperature=0.3)\n",
        "agent = DQN_CNN(size, lr=.1, epsilon = 0.1, memory_size=2000, batch_size = 32)\n",
        "train(agent,env,epochs_train,prefix='cnn_train')\n",
        "HTML(display_videos('cnn_train0.mp4'))"
      ],
      "execution_count": 0,
      "outputs": [
        {
          "output_type": "stream",
          "text": [
            "new episode : 0\n",
            "Epoch 000/050 | Loss 0.0218 | Win/lose count 3.5/2.0 (1.5)\n",
            "new episode : 1\n",
            "Epoch 001/050 | Loss 0.0045 | Win/lose count 1.0/5.0 (-4.0)\n",
            "new episode : 2\n",
            "Epoch 002/050 | Loss 0.0048 | Win/lose count 1.0/4.0 (-3.0)\n",
            "new episode : 3\n",
            "Epoch 003/050 | Loss 0.0030 | Win/lose count 4.5/2.0 (2.5)\n",
            "new episode : 4\n",
            "Epoch 004/050 | Loss 0.0032 | Win/lose count 6.0/4.0 (2.0)\n",
            "new episode : 5\n",
            "Epoch 005/050 | Loss 0.0017 | Win/lose count 3.0/1.0 (2.0)\n",
            "new episode : 6\n",
            "Epoch 006/050 | Loss 0.0035 | Win/lose count 4.5/5.0 (-0.5)\n",
            "new episode : 7\n",
            "Epoch 007/050 | Loss 0.0013 | Win/lose count 4.0/3.0 (1.0)\n",
            "new episode : 8\n",
            "Epoch 008/050 | Loss 0.0464 | Win/lose count 6.0/4.0 (2.0)\n",
            "new episode : 9\n",
            "Epoch 009/050 | Loss 0.0021 | Win/lose count 7.5/1.0 (6.5)\n",
            "new episode : 10\n",
            "Epoch 010/050 | Loss 0.0026 | Win/lose count 7.0/3.0 (4.0)\n",
            "new episode : 11\n",
            "Epoch 011/050 | Loss 0.0012 | Win/lose count 9.5/3.0 (6.5)\n",
            "new episode : 12\n",
            "Epoch 012/050 | Loss 0.0039 | Win/lose count 7.5/3.0 (4.5)\n",
            "new episode : 13\n",
            "Epoch 013/050 | Loss 0.0048 | Win/lose count 5.5/2.0 (3.5)\n",
            "new episode : 14\n",
            "Epoch 014/050 | Loss 0.0019 | Win/lose count 11.0/5.0 (6.0)\n",
            "new episode : 15\n",
            "Epoch 015/050 | Loss 0.0010 | Win/lose count 15.0/3.0 (12.0)\n",
            "new episode : 16\n",
            "Epoch 016/050 | Loss 0.0028 | Win/lose count 7.0/3.0 (4.0)\n",
            "new episode : 17\n",
            "Epoch 017/050 | Loss 0.0048 | Win/lose count 7.5/0 (7.5)\n",
            "new episode : 18\n",
            "Epoch 018/050 | Loss 0.0020 | Win/lose count 11.5/0 (11.5)\n",
            "new episode : 19\n",
            "Epoch 019/050 | Loss 0.0016 | Win/lose count 7.5/5.0 (2.5)\n",
            "new episode : 20\n",
            "Epoch 020/050 | Loss 0.0043 | Win/lose count 10.5/2.0 (8.5)\n",
            "new episode : 21\n",
            "Epoch 021/050 | Loss 0.0022 | Win/lose count 13.0/2.0 (11.0)\n",
            "new episode : 22\n",
            "Epoch 022/050 | Loss 0.0048 | Win/lose count 12.0/3.0 (9.0)\n",
            "new episode : 23\n",
            "Epoch 023/050 | Loss 0.0030 | Win/lose count 1.5/4.0 (-2.5)\n",
            "new episode : 24\n",
            "Epoch 024/050 | Loss 0.0037 | Win/lose count 18.0/3.0 (15.0)\n",
            "new episode : 25\n",
            "Epoch 025/050 | Loss 0.0018 | Win/lose count 6.0/0 (6.0)\n",
            "new episode : 26\n",
            "Epoch 026/050 | Loss 0.0045 | Win/lose count 7.5/1.0 (6.5)\n",
            "new episode : 27\n",
            "Epoch 027/050 | Loss 0.0038 | Win/lose count 7.0/3.0 (4.0)\n",
            "new episode : 28\n",
            "Epoch 028/050 | Loss 0.0703 | Win/lose count 5.0/3.0 (2.0)\n",
            "new episode : 29\n",
            "Epoch 029/050 | Loss 0.0549 | Win/lose count 17.5/2.0 (15.5)\n",
            "new episode : 30\n",
            "Epoch 030/050 | Loss 0.0019 | Win/lose count 7.5/2.0 (5.5)\n",
            "new episode : 31\n",
            "Epoch 031/050 | Loss 0.0018 | Win/lose count 20.5/3.0 (17.5)\n",
            "new episode : 32\n",
            "Epoch 032/050 | Loss 0.0027 | Win/lose count 13.0/2.0 (11.0)\n",
            "new episode : 33\n",
            "Epoch 033/050 | Loss 0.0095 | Win/lose count 9.5/2.0 (7.5)\n",
            "new episode : 34\n",
            "Epoch 034/050 | Loss 0.0012 | Win/lose count 4.0/2.0 (2.0)\n",
            "new episode : 35\n",
            "Epoch 035/050 | Loss 0.0014 | Win/lose count 18.0/5.0 (13.0)\n",
            "new episode : 36\n",
            "Epoch 036/050 | Loss 0.0028 | Win/lose count 13.5/3.0 (10.5)\n",
            "new episode : 37\n",
            "Epoch 037/050 | Loss 0.0044 | Win/lose count 7.5/4.0 (3.5)\n",
            "new episode : 38\n",
            "Epoch 038/050 | Loss 0.0030 | Win/lose count 8.5/5.0 (3.5)\n",
            "new episode : 39\n",
            "Epoch 039/050 | Loss 0.0563 | Win/lose count 20.5/1.0 (19.5)\n",
            "new episode : 40\n",
            "Epoch 040/050 | Loss 0.0031 | Win/lose count 9.0/1.0 (8.0)\n",
            "new episode : 41\n",
            "Epoch 041/050 | Loss 0.0046 | Win/lose count 7.5/1.0 (6.5)\n",
            "new episode : 42\n",
            "Epoch 042/050 | Loss 0.0018 | Win/lose count 21.0/2.0 (19.0)\n",
            "new episode : 43\n",
            "Epoch 043/050 | Loss 0.0021 | Win/lose count 15.0/6.0 (9.0)\n",
            "new episode : 44\n",
            "Epoch 044/050 | Loss 0.0009 | Win/lose count 19.5/4.0 (15.5)\n",
            "new episode : 45\n",
            "Epoch 045/050 | Loss 0.0030 | Win/lose count 21.0/3.0 (18.0)\n",
            "new episode : 46\n",
            "Epoch 046/050 | Loss 0.0052 | Win/lose count 5.0/3.0 (2.0)\n",
            "new episode : 47\n",
            "Epoch 047/050 | Loss 0.0041 | Win/lose count 12.5/1.0 (11.5)\n",
            "new episode : 48\n",
            "Epoch 048/050 | Loss 0.0047 | Win/lose count 12.0/3.0 (9.0)\n",
            "new episode : 49\n",
            "Epoch 049/050 | Loss 0.0023 | Win/lose count 8.0/3.0 (5.0)\n"
          ],
          "name": "stdout"
        },
        {
          "output_type": "execute_result",
          "data": {
            "text/html": [
              "<video alt=\"test\" controls>\n",
              "                <source src=\"data:video/mp4;base64,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\" type=\"video/mp4\" />\n",
              "             </video>"
            ],
            "text/plain": [
              "<IPython.core.display.HTML object>"
            ]
          },
          "metadata": {
            "tags": []
          },
          "execution_count": 20
        }
      ]
    },
    {
      "metadata": {
        "id": "eQgerjXbn-b7",
        "colab_type": "text"
      },
      "cell_type": "markdown",
      "source": [
        "***\n",
        "***\n",
        "__Question 9__ Test both algorithms and compare their performances. Which issue(s) do you observe? Observe also different behaviors by changing the temperature."
      ]
    },
    {
      "metadata": {
        "id": "9Dsv5mzkn-cA",
        "colab_type": "code",
        "outputId": "0d71fa5a-0fe7-4dbb-d7b7-b67d288f4cab",
        "colab": {
          "base_uri": "https://localhost:8080/",
          "height": 995
        }
      },
      "cell_type": "code",
      "source": [
        "# Temperature here controls the probability for a cell to contain a bonus or a malus. The higher the temperature, more often bonuses and maluses will be encountered. \n",
        "\n",
        "# We will start by temperature = 0.2\n",
        "\n",
        "env = Environment(grid_size=size, max_time=T,temperature=0.2)\n",
        "agent_cnn = DQN_CNN(size, lr=.1, epsilon = 0.1, memory_size=2000, batch_size = 32)\n",
        "agent_cnn.load(name_weights='cnn_trainmodel.h5',name_model='cnn_trainmodel.json')\n",
        "\n",
        "agent_fc = DQN_FC(size, lr=.1, epsilon = 0.1, memory_size=2000, batch_size = 32)\n",
        "agent_cnn.load(name_weights='fc_trainmodel.h5',name_model='fc_trainmodel.json')\n",
        "print('Test of the CNN')\n",
        "test(agent_cnn,env,epochs_test,prefix='cnn_test')\n",
        "print('Test of the FC')\n",
        "test(agent_fc,env,epochs_test,prefix='fc_test')"
      ],
      "execution_count": 0,
      "outputs": [
        {
          "output_type": "stream",
          "text": [
            "_________________________________________________________________\n",
            "Layer (type)                 Output Shape              Param #   \n",
            "=================================================================\n",
            "flatten_10 (Flatten)         (None, 50)                0         \n",
            "_________________________________________________________________\n",
            "dense_15 (Dense)             (None, 64)                3264      \n",
            "_________________________________________________________________\n",
            "dense_16 (Dense)             (None, 4)                 260       \n",
            "=================================================================\n",
            "Total params: 3,524\n",
            "Trainable params: 3,524\n",
            "Non-trainable params: 0\n",
            "_________________________________________________________________\n",
            "Test of the CNN\n",
            "Win/lose count 7.0/4.0. Average score (3.0)\n",
            "Final score: 0.3\n",
            "Win/lose count 3.0/1.0. Average score (2.5)\n",
            "Final score: 0.5\n",
            "Win/lose count 6.0/0. Average score (3.6666666666666665)\n",
            "Final score: 1.1\n",
            "Win/lose count 9.5/1.0. Average score (4.875)\n",
            "Final score: 1.95\n",
            "Win/lose count 1.5/1.0. Average score (4.0)\n",
            "Final score: 2.0\n",
            "Win/lose count 4.5/0. Average score (4.083333333333333)\n",
            "Final score: 2.45\n",
            "Win/lose count 10.0/1.0. Average score (4.785714285714286)\n",
            "Final score: 3.35\n",
            "Win/lose count 6.5/2.0. Average score (4.75)\n",
            "Final score: 3.8\n",
            "Win/lose count 10.5/1.0. Average score (5.277777777777778)\n",
            "Final score: 4.75\n",
            "Win/lose count 2.5/0. Average score (5.0)\n",
            "Final score: 5.0\n",
            "Test of the FC\n",
            "Win/lose count 2.5/7.0. Average score (-4.5)\n",
            "Final score: -0.45\n",
            "Win/lose count 5.5/8.0. Average score (-3.5)\n",
            "Final score: -0.7\n",
            "Win/lose count 3.5/10.0. Average score (-4.5)\n",
            "Final score: -1.35\n",
            "Win/lose count 2.0/7.0. Average score (-4.625)\n",
            "Final score: -1.85\n",
            "Win/lose count 4.5/1.0. Average score (-3.0)\n",
            "Final score: -1.5\n",
            "Win/lose count 2.0/4.0. Average score (-2.8333333333333335)\n",
            "Final score: -1.7\n",
            "Win/lose count 1.5/0. Average score (-2.2142857142857144)\n",
            "Final score: -1.55\n",
            "Win/lose count 0.5/0. Average score (-1.875)\n",
            "Final score: -1.5\n",
            "Win/lose count 1.0/2.0. Average score (-1.7777777777777777)\n",
            "Final score: -1.6\n",
            "Win/lose count 4.5/2.0. Average score (-1.35)\n",
            "Final score: -1.35\n"
          ],
          "name": "stdout"
        }
      ]
    },
    {
      "metadata": {
        "id": "Ify6691TmNkw",
        "colab_type": "code",
        "outputId": "a805bc33-aea5-4104-8c30-ff87bec7abd2",
        "colab": {
          "base_uri": "https://localhost:8080/",
          "height": 292
        }
      },
      "cell_type": "code",
      "source": [
        "HTML(display_videos('cnn_test0.mp4'))"
      ],
      "execution_count": 0,
      "outputs": [
        {
          "output_type": "execute_result",
          "data": {
            "text/html": [
              "<video alt=\"test\" controls>\n",
              "                <source src=\"data:video/mp4;base64,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\" type=\"video/mp4\" />\n",
              "             </video>"
            ],
            "text/plain": [
              "<IPython.core.display.HTML object>"
            ]
          },
          "metadata": {
            "tags": []
          },
          "execution_count": 29
        }
      ]
    },
    {
      "metadata": {
        "id": "9xE6kWOLmRqh",
        "colab_type": "code",
        "outputId": "322145e2-10c8-46b0-a1e9-d4ffd4f7d164",
        "colab": {
          "base_uri": "https://localhost:8080/",
          "height": 292
        }
      },
      "cell_type": "code",
      "source": [
        "HTML(display_videos('fc_test0.mp4'))"
      ],
      "execution_count": 0,
      "outputs": [
        {
          "output_type": "execute_result",
          "data": {
            "text/html": [
              "<video alt=\"test\" controls>\n",
              "                <source src=\"data:video/mp4;base64,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\" type=\"video/mp4\" />\n",
              "             </video>"
            ],
            "text/plain": [
              "<IPython.core.display.HTML object>"
            ]
          },
          "metadata": {
            "tags": []
          },
          "execution_count": 30
        }
      ]
    },
    {
      "metadata": {
        "id": "23Mtj5ZS0qOZ",
        "colab_type": "code",
        "outputId": "9be03f61-6b7c-4534-bb58-124c2ac2be47",
        "colab": {
          "base_uri": "https://localhost:8080/",
          "height": 995
        }
      },
      "cell_type": "code",
      "source": [
        "#Temperature = 0.5 \n",
        "\n",
        "env = Environment(grid_size=size, max_time=T,temperature=0.5)\n",
        "agent_cnn = DQN_CNN(size, lr=.1, epsilon = 0.1, memory_size=2000, batch_size = 32)\n",
        "agent_cnn.load(name_weights='cnn_trainmodel.h5',name_model='cnn_trainmodel.json')\n",
        "\n",
        "agent_fc = DQN_FC(size, lr=.1, epsilon = 0.1, memory_size=2000, batch_size = 32)\n",
        "agent_cnn.load(name_weights='fc_trainmodel.h5',name_model='fc_trainmodel.json')\n",
        "print('Test of the CNN')\n",
        "test(agent_cnn,env,epochs_test,prefix='cnn_test')\n",
        "print('Test of the FC')\n",
        "test(agent_fc,env,epochs_test,prefix='fc_test')"
      ],
      "execution_count": 0,
      "outputs": [
        {
          "output_type": "stream",
          "text": [
            "_________________________________________________________________\n",
            "Layer (type)                 Output Shape              Param #   \n",
            "=================================================================\n",
            "flatten_14 (Flatten)         (None, 50)                0         \n",
            "_________________________________________________________________\n",
            "dense_20 (Dense)             (None, 64)                3264      \n",
            "_________________________________________________________________\n",
            "dense_21 (Dense)             (None, 4)                 260       \n",
            "=================================================================\n",
            "Total params: 3,524\n",
            "Trainable params: 3,524\n",
            "Non-trainable params: 0\n",
            "_________________________________________________________________\n",
            "Test of the CNN\n",
            "Win/lose count 4.0/6.0. Average score (-2.0)\n",
            "Final score: -0.2\n",
            "Win/lose count 3.5/1.0. Average score (0.25)\n",
            "Final score: 0.05\n",
            "Win/lose count 2.5/4.0. Average score (-0.3333333333333333)\n",
            "Final score: -0.1\n",
            "Win/lose count 15.5/2.0. Average score (3.125)\n",
            "Final score: 1.25\n",
            "Win/lose count 13.0/4.0. Average score (4.3)\n",
            "Final score: 2.15\n",
            "Win/lose count 15.5/1.0. Average score (6.0)\n",
            "Final score: 3.6\n",
            "Win/lose count 34.0/6.0. Average score (9.142857142857142)\n",
            "Final score: 6.4\n",
            "Win/lose count 6.0/3.0. Average score (8.375)\n",
            "Final score: 6.7\n",
            "Win/lose count 17.0/2.0. Average score (9.11111111111111)\n",
            "Final score: 8.2\n",
            "Win/lose count 18.0/1.0. Average score (9.9)\n",
            "Final score: 9.9\n",
            "Test of the FC\n",
            "Win/lose count 8.5/11.0. Average score (-2.5)\n",
            "Final score: -0.25\n",
            "Win/lose count 9.0/8.0. Average score (-0.75)\n",
            "Final score: -0.15\n",
            "Win/lose count 13.0/8.0. Average score (1.1666666666666667)\n",
            "Final score: 0.35\n",
            "Win/lose count 8.5/7.0. Average score (1.25)\n",
            "Final score: 0.5\n",
            "Win/lose count 6.5/3.0. Average score (1.7)\n",
            "Final score: 0.85\n",
            "Win/lose count 2.5/4.0. Average score (1.1666666666666667)\n",
            "Final score: 0.7\n",
            "Win/lose count 6.0/1.0. Average score (1.7142857142857142)\n",
            "Final score: 1.2\n",
            "Win/lose count 8.5/4.0. Average score (2.0625)\n",
            "Final score: 1.65\n",
            "Win/lose count 8.0/0. Average score (2.7222222222222223)\n",
            "Final score: 2.45\n",
            "Win/lose count 10.5/9.0. Average score (2.6)\n",
            "Final score: 2.6\n"
          ],
          "name": "stdout"
        }
      ]
    },
    {
      "metadata": {
        "id": "h4bg_AhplgXE",
        "colab_type": "code",
        "outputId": "0d4e6ec5-6b25-470a-aef1-4f06c5e54130",
        "colab": {
          "base_uri": "https://localhost:8080/",
          "height": 995
        }
      },
      "cell_type": "code",
      "source": [
        "# And now with temperature  = 0.8\n",
        "\n",
        "env = Environment(grid_size=size, max_time=T,temperature=0.8)\n",
        "agent_cnn = DQN_CNN(size, lr=.1, epsilon = 0.1, memory_size=2000, batch_size = 32)\n",
        "agent_cnn.load(name_weights='cnn_trainmodel.h5',name_model='cnn_trainmodel.json')\n",
        "\n",
        "agent_fc = DQN_FC(size, lr=.1, epsilon = 0.1, memory_size=2000, batch_size = 32)\n",
        "agent_cnn.load(name_weights='fc_trainmodel.h5',name_model='fc_trainmodel.json')\n",
        "print('Test of the CNN')\n",
        "test(agent_cnn,env,epochs_test,prefix='cnn_test')\n",
        "print('Test of the FC')\n",
        "test(agent_fc,env,epochs_test,prefix='fc_test')"
      ],
      "execution_count": 0,
      "outputs": [
        {
          "output_type": "stream",
          "text": [
            "_________________________________________________________________\n",
            "Layer (type)                 Output Shape              Param #   \n",
            "=================================================================\n",
            "flatten_8 (Flatten)          (None, 50)                0         \n",
            "_________________________________________________________________\n",
            "dense_12 (Dense)             (None, 64)                3264      \n",
            "_________________________________________________________________\n",
            "dense_13 (Dense)             (None, 4)                 260       \n",
            "=================================================================\n",
            "Total params: 3,524\n",
            "Trainable params: 3,524\n",
            "Non-trainable params: 0\n",
            "_________________________________________________________________\n",
            "Test of the CNN\n",
            "Win/lose count 36.0/2.0. Average score (34.0)\n",
            "Final score: 3.4\n",
            "Win/lose count 48.0/3.0. Average score (39.5)\n",
            "Final score: 7.9\n",
            "Win/lose count 35.5/1.0. Average score (37.833333333333336)\n",
            "Final score: 11.35\n",
            "Win/lose count 32.0/4.0. Average score (35.375)\n",
            "Final score: 14.15\n",
            "Win/lose count 37.5/5.0. Average score (34.8)\n",
            "Final score: 17.4\n",
            "Win/lose count 35.0/4.0. Average score (34.166666666666664)\n",
            "Final score: 20.5\n",
            "Win/lose count 19.0/2.0. Average score (31.714285714285715)\n",
            "Final score: 22.2\n",
            "Win/lose count 25.0/1.0. Average score (30.75)\n",
            "Final score: 24.6\n",
            "Win/lose count 41.5/3.0. Average score (31.61111111111111)\n",
            "Final score: 28.45\n",
            "Win/lose count 31.5/4.0. Average score (31.2)\n",
            "Final score: 31.2\n",
            "Test of the FC\n",
            "Win/lose count 4.0/5.0. Average score (-1.0)\n",
            "Final score: -0.1\n",
            "Win/lose count 3.5/2.0. Average score (0.25)\n",
            "Final score: 0.05\n",
            "Win/lose count 6.0/1.0. Average score (1.8333333333333333)\n",
            "Final score: 0.55\n",
            "Win/lose count 11.5/2.0. Average score (3.75)\n",
            "Final score: 1.5\n",
            "Win/lose count 8.5/2.0. Average score (4.3)\n",
            "Final score: 2.15\n",
            "Win/lose count 12.0/3.0. Average score (5.083333333333333)\n",
            "Final score: 3.05\n",
            "Win/lose count 5.5/2.0. Average score (4.857142857142857)\n",
            "Final score: 3.4\n",
            "Win/lose count 9.0/3.0. Average score (5.0)\n",
            "Final score: 4.0\n",
            "Win/lose count 15.0/6.0. Average score (5.444444444444445)\n",
            "Final score: 4.9\n",
            "Win/lose count 12.5/2.0. Average score (5.95)\n",
            "Final score: 5.95\n"
          ],
          "name": "stdout"
        }
      ]
    },
    {
      "metadata": {
        "id": "9MdqIozPn-cF",
        "colab_type": "code",
        "outputId": "67c52c31-7373-4552-8cf4-c73665b6c53f",
        "colab": {
          "base_uri": "https://localhost:8080/",
          "height": 292
        }
      },
      "cell_type": "code",
      "source": [
        "HTML(display_videos('cnn_test0.mp4'))"
      ],
      "execution_count": 0,
      "outputs": [
        {
          "output_type": "execute_result",
          "data": {
            "text/html": [
              "<video alt=\"test\" controls>\n",
              "                <source src=\"data:video/mp4;base64,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\" type=\"video/mp4\" />\n",
              "             </video>"
            ],
            "text/plain": [
              "<IPython.core.display.HTML object>"
            ]
          },
          "metadata": {
            "tags": []
          },
          "execution_count": 25
        }
      ]
    },
    {
      "metadata": {
        "id": "h2WoS9uIn-cK",
        "colab_type": "code",
        "outputId": "db433e22-8b2d-480c-80db-2fcb3380f248",
        "colab": {
          "base_uri": "https://localhost:8080/",
          "height": 292
        }
      },
      "cell_type": "code",
      "source": [
        "HTML(display_videos('fc_test0.mp4'))"
      ],
      "execution_count": 0,
      "outputs": [
        {
          "output_type": "execute_result",
          "data": {
            "text/html": [
              "<video alt=\"test\" controls>\n",
              "                <source src=\"data:video/mp4;base64,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\" type=\"video/mp4\" />\n",
              "             </video>"
            ],
            "text/plain": [
              "<IPython.core.display.HTML object>"
            ]
          },
          "metadata": {
            "tags": []
          },
          "execution_count": 26
        }
      ]
    },
    {
      "metadata": {
        "id": "E1r9xdCZq9T6",
        "colab_type": "text"
      },
      "cell_type": "markdown",
      "source": [
        "###Observations \n",
        "\n",
        "We can first observe the effect of the temperature. Increasing the temperature highly increases the average score. Even if the maluses are also increased by temperature, our agents have learned to avoid them, and therefore mainly take advantage of the higher bonuses. For instance, the CNN average score goes from 5 with temperature = 0.2 to 31.2 with temperature = 0.8.\n",
        "The FC goes from -1.35 to 5.95 average score.\n",
        "\n",
        "The CNN architecture clearly outperforms the FC one. The results above show the gap in the average score between the two architectures. We can see in the video, that the CNN is more keen to explore the map, and avoids better the maluses. On the medium temperature example, T= 0.5, CNN reaches an average score of 9.9, while FC reaches 2.6.\n",
        "\n",
        "Finally, exploration is still a week point. When we watch the videos, rarely more than half of the map is explored in each case. \n"
      ]
    },
    {
      "metadata": {
        "id": "zWEszzh_n-cO",
        "colab_type": "text"
      },
      "cell_type": "markdown",
      "source": [
        "\n",
        "One main issue is observed .\n",
        "\n"
      ]
    },
    {
      "metadata": {
        "id": "Abw7Va3tn-cP",
        "colab_type": "text"
      },
      "cell_type": "markdown",
      "source": [
        "***\n",
        "\n",
        "The algorithm tends to not explore the map which can be an issue. We propose two ideas in order to encourage exploration:\n",
        "1. Incorporating a decreasing $\\epsilon$-greedy exploration. You can use the method ```set_epsilon```\n",
        "2. Append via the environment a new state that describes if a cell has been visited or not\n",
        "\n",
        "***\n",
        "__Question 10__ Design a new ```train_explore``` function and environment class ```EnvironmentExploring``` to tackle the issue of exploration.\n",
        "\n"
      ]
    },
    {
      "metadata": {
        "id": "XOf6El8tn-cP",
        "colab_type": "code",
        "outputId": "e32953ca-ba32-4eab-acee-44befc9d0d13",
        "colab": {
          "base_uri": "https://localhost:8080/",
          "height": 55
        }
      },
      "cell_type": "code",
      "source": [
        "def train_explore(agent,env,epoch,prefix='explore'):\n",
        "    # Number of won games\n",
        "    score = 0\n",
        "    loss = 0\n",
        "    #Initialization of decreasing epsilon greedy exploration\n",
        "    agent.set_epsilon(0.5) \n",
        "    discount_on_epsilon = 0.75\n",
        "    for e in range(epoch):\n",
        "        # Decreasing epsilon \n",
        "        agent.set_epsilon(agent.epsilon*discount_on_epsilon)\n",
        "        print(\"new episode : \" + str(e))\n",
        "        # At each epoch, we restart to a fresh game and get the initial state\n",
        "        state = env.reset()\n",
        "        # This assumes that the games will terminate\n",
        "        game_over = False\n",
        "\n",
        "        win = 0\n",
        "        lose = 0\n",
        "\n",
        "        while not game_over:\n",
        "            # The agent performs an action\n",
        "            \n",
        "            action = agent.act(state)\n",
        "\n",
        "            # Apply an action to the environment, get the next state, the reward\n",
        "            # and if the games end\n",
        "            prev_state = state\n",
        "            state, reward, game_over = env.act(action, train=True)\n",
        "\n",
        "            # Update the counters\n",
        "            if reward > 0:\n",
        "                win = win + reward\n",
        "            if reward < 0:\n",
        "                lose = lose -reward\n",
        "\n",
        "            # Apply the reinforcement strategy\n",
        "            loss = agent.reinforce(prev_state, state,  action, reward, game_over)\n",
        "\n",
        "        # Save as a mp4\n",
        "        if e % 10 == 0:\n",
        "            env.draw(prefix+str(e))\n",
        "\n",
        "        # Update stats\n",
        "        score += win-lose\n",
        "\n",
        "        print(\"Epoch {:03d}/{:03d} | Loss {:.4f} | Win/lose count {}/{} ({})\"\n",
        "              .format(e, epoch, loss, win, lose, win-lose))\n",
        "        agent.save(name_weights=prefix+'model.h5',name_model=prefix+'model.json')\n",
        "        \n",
        "class EnvironmentExploring(object):\n",
        "    def __init__(self, grid_size=10, max_time=500, temperature=0.1):\n",
        "        grid_size = grid_size+4\n",
        "        self.grid_size = grid_size\n",
        "        self.max_time = max_time\n",
        "        self.temperature = temperature\n",
        "\n",
        "        #board on which one plays\n",
        "        self.board = np.zeros((grid_size,grid_size))\n",
        "        self.position = np.zeros((grid_size,grid_size))\n",
        "        self.malus_position = np.zeros((grid_size, grid_size)) # Motivating exploration\n",
        "\n",
        "        # coordinate of the cat\n",
        "        self.x = 0\n",
        "        self.y = 1\n",
        "\n",
        "        # self time\n",
        "        self.t = 0\n",
        "\n",
        "        self.scale=16\n",
        "\n",
        "        self.to_draw = np.zeros((max_time+2, grid_size*self.scale, grid_size*self.scale, 3))\n",
        "\n",
        "\n",
        "    def draw(self,e):\n",
        "        skvideo.io.vwrite(str(e) + '.mp4', self.to_draw)\n",
        "\n",
        "    def get_frame(self,t):\n",
        "        b = np.zeros((self.grid_size,self.grid_size,3))+128\n",
        "        b[self.board>0,0] = 256\n",
        "        b[self.board < 0, 2] = 256\n",
        "        b[self.x,self.y,:]=256\n",
        "        b[-2:,:,:]=0\n",
        "        b[:,-2:,:]=0\n",
        "        b[:2,:,:]=0\n",
        "        b[:,:2,:]=0\n",
        "        \n",
        "        b =  cv2.resize(b, None, fx=self.scale, fy=self.scale, interpolation=cv2.INTER_NEAREST)\n",
        "\n",
        "        self.to_draw[t,:,:,:]=b\n",
        "\n",
        "\n",
        "    def act(self, action, train):\n",
        "        \"\"\"This function returns the new state, reward and decides if the\n",
        "        game ends.\"\"\"\n",
        "\n",
        "        self.get_frame(int(self.t))\n",
        "\n",
        "        self.position = np.zeros((self.grid_size, self.grid_size))\n",
        "\n",
        "        self.position[0:2,:]= -1\n",
        "        self.position[:,0:2] = -1\n",
        "        self.position[-2:, :] = -1\n",
        "        self.position[-2:, :] = -1\n",
        "\n",
        "        self.position[self.x, self.y] = 1\n",
        "        if action == 0:\n",
        "            if self.x == self.grid_size-3:\n",
        "                self.x = self.x-1\n",
        "            else:\n",
        "                self.x = self.x + 1\n",
        "        elif action == 1:\n",
        "            if self.x == 2:\n",
        "                self.x = self.x+1\n",
        "            else:\n",
        "                self.x = self.x-1\n",
        "        elif action == 2:\n",
        "            if self.y == self.grid_size - 3:\n",
        "                self.y = self.y - 1\n",
        "            else:\n",
        "                self.y = self.y + 1\n",
        "        elif action == 3:\n",
        "            if self.y == 2:\n",
        "                self.y = self.y + 1\n",
        "            else:\n",
        "                self.y = self.y - 1\n",
        "        else:\n",
        "            RuntimeError('Error: action not recognized')\n",
        "\n",
        "        self.t = self.t + 1\n",
        "        reward = 0 \n",
        "        if train:\n",
        "          reward = -self.malus_position[self.x, self.y]\n",
        "        #When visited we update malus position\n",
        "        self.malus_position[self.x, self.y] = 0.1\n",
        "\n",
        "        reward = self.board[self.x, self.y]\n",
        "        self.board[self.x, self.y] = 0\n",
        "        game_over = self.t > self.max_time\n",
        "        #We add the malus_position grid\n",
        "        state = np.concatenate((self.malus_position.reshape(self.grid_size, self.grid_size,1),\n",
        "                                self.board.reshape(self.grid_size, self.grid_size,1),\n",
        "                        self.position.reshape(self.grid_size, self.grid_size,1)),axis=2)\n",
        "        state = state[self.x-2:self.x+3,self.y-2:self.y+3,:]\n",
        "\n",
        "        return state, reward, game_over\n",
        "\n",
        "    def reset(self):\n",
        "        \"\"\"This function resets the game and returns the initial state\"\"\"\n",
        "\n",
        "        self.x = np.random.randint(3, self.grid_size-3, size=1)[0]\n",
        "        self.y = np.random.randint(3, self.grid_size-3, size=1)[0]\n",
        "\n",
        "\n",
        "        bonus = 0.5*np.random.binomial(1,self.temperature,size=self.grid_size**2)\n",
        "        bonus = bonus.reshape(self.grid_size,self.grid_size)\n",
        "\n",
        "        malus = -1.0*np.random.binomial(1,self.temperature,size=self.grid_size**2)\n",
        "        malus = malus.reshape(self.grid_size, self.grid_size)\n",
        "\n",
        "        self.to_draw = np.zeros((self.max_time+2, self.grid_size*self.scale, self.grid_size*self.scale, 3))\n",
        "\n",
        "\n",
        "        malus[bonus>0]=0\n",
        "\n",
        "        self.board = bonus + malus\n",
        "\n",
        "        self.position = np.zeros((self.grid_size, self.grid_size))\n",
        "        self.position[0:2,:]= -1\n",
        "        self.position[:,0:2] = -1\n",
        "        self.position[-2:, :] = -1\n",
        "        self.position[-2:, :] = -1\n",
        "        self.board[self.x,self.y] = 0\n",
        "        self.t = 0\n",
        "        #Malus position is initialized to zero\n",
        "        self.malus_position = np.zeros((self.grid_size, self.grid_size))\n",
        "        \n",
        "        \n",
        "        state = np.concatenate((self.malus_position.reshape(self.grid_size, self.grid_size,1),\n",
        "                                self.board.reshape(self.grid_size, self.grid_size,1),\n",
        "                        self.position.reshape(self.grid_size, self.grid_size,1)),axis=2)\n",
        "\n",
        "        state = state[self.x - 2:self.x + 3, self.y - 2:self.y + 3, :]\n",
        "        return state\n",
        "\"\"\"\n",
        "## use those samples of code:\n",
        "#In train explore:\n",
        "state, reward, game_over = env.act(action, train=True)\n",
        "\n",
        "## In Environment exploring:\n",
        "# You will have to change n_state to 3 because you will use one more layer!\n",
        "reward = 0\n",
        "if train:\n",
        "    reward = -self.malus_position[self.x, self.y]\n",
        "self.malus_position[self.x, self.y] = 0.1\n",
        "\n",
        "reward = reward + self.board[self.x, self.y]\n",
        "# 3 \"feature\" states instead of 2\n",
        "state = np.concatenate((self.malus_position.reshape(self.grid_size, self.grid_size,1),\n",
        "                                self.board.reshape(self.grid_size, self.grid_size,1),\n",
        "                        self.position.reshape(self.grid_size, self.grid_size,1)),axis=2)\n",
        "                        \n",
        "\"\"\""
      ],
      "execution_count": 0,
      "outputs": [
        {
          "output_type": "execute_result",
          "data": {
            "text/plain": [
              "'\\n## use those samples of code:\\n#In train explore:\\nstate, reward, game_over = env.act(action, train=True)\\n\\n## In Environment exploring:\\n# You will have to change n_state to 3 because you will use one more layer!\\nreward = 0\\nif train:\\n    reward = -self.malus_position[self.x, self.y]\\nself.malus_position[self.x, self.y] = 0.1\\n\\nreward = reward + self.board[self.x, self.y]\\n# 3 \"feature\" states instead of 2\\nstate = np.concatenate((self.malus_position.reshape(self.grid_size, self.grid_size,1),\\n                                self.board.reshape(self.grid_size, self.grid_size,1),\\n                        self.position.reshape(self.grid_size, self.grid_size,1)),axis=2)\\n                        \\n'"
            ]
          },
          "metadata": {
            "tags": []
          },
          "execution_count": 31
        }
      ]
    },
    {
      "metadata": {
        "id": "nXwTGNAfV_q0",
        "colab_type": "code",
        "colab": {}
      },
      "cell_type": "code",
      "source": [
        ""
      ],
      "execution_count": 0,
      "outputs": []
    },
    {
      "metadata": {
        "id": "g5b_OU34n-cV",
        "colab_type": "code",
        "outputId": "2c54e5b7-b5e2-4f61-8c54-d42efd848510",
        "colab": {
          "base_uri": "https://localhost:8080/",
          "height": 1948
        }
      },
      "cell_type": "code",
      "source": [
        "# Training\n",
        "env = EnvironmentExploring(grid_size=size, max_time=T, temperature=0.5)\n",
        "agent = DQN_CNN(size, lr=.1, epsilon = 0.5, memory_size=2000, batch_size = 32,n_state=3)\n",
        "train_explore(agent, env, epochs_train, prefix='cnn_train_explore')\n",
        "HTML(display_videos('cnn_train_explore0.mp4'))"
      ],
      "execution_count": 0,
      "outputs": [
        {
          "output_type": "stream",
          "text": [
            "new episode : 0\n",
            "Epoch 000/050 | Loss 0.0074 | Win/lose count 9.0/8.0 (1.0)\n",
            "new episode : 1\n",
            "Epoch 001/050 | Loss 0.0070 | Win/lose count 3.0/11.0 (-8.0)\n",
            "new episode : 2\n",
            "Epoch 002/050 | Loss 0.0089 | Win/lose count 13.5/5.0 (8.5)\n",
            "new episode : 3\n",
            "Epoch 003/050 | Loss 0.0730 | Win/lose count 10.5/5.0 (5.5)\n",
            "new episode : 4\n",
            "Epoch 004/050 | Loss 0.0030 | Win/lose count 4.0/3.0 (1.0)\n",
            "new episode : 5\n",
            "Epoch 005/050 | Loss 0.0041 | Win/lose count 9.0/4.0 (5.0)\n",
            "new episode : 6\n",
            "Epoch 006/050 | Loss 0.0014 | Win/lose count 3.0/1.0 (2.0)\n",
            "new episode : 7\n",
            "Epoch 007/050 | Loss 0.0025 | Win/lose count 15.0/1.0 (14.0)\n",
            "new episode : 8\n",
            "Epoch 008/050 | Loss 0.0010 | Win/lose count 2.0/2.0 (0.0)\n",
            "new episode : 9\n",
            "Epoch 009/050 | Loss 0.0036 | Win/lose count 16.0/1.0 (15.0)\n",
            "new episode : 10\n",
            "Epoch 010/050 | Loss 0.0029 | Win/lose count 4.0/1.0 (3.0)\n",
            "new episode : 11\n",
            "Epoch 011/050 | Loss 0.0018 | Win/lose count 19.5/1.0 (18.5)\n",
            "new episode : 12\n",
            "Epoch 012/050 | Loss 0.0035 | Win/lose count 27.5/0 (27.5)\n",
            "new episode : 13\n",
            "Epoch 013/050 | Loss 0.0025 | Win/lose count 22.0/0 (22.0)\n",
            "new episode : 14\n",
            "Epoch 014/050 | Loss 0.0007 | Win/lose count 29.5/0 (29.5)\n",
            "new episode : 15\n",
            "Epoch 015/050 | Loss 0.0014 | Win/lose count 30.5/1.0 (29.5)\n",
            "new episode : 16\n",
            "Epoch 016/050 | Loss 0.0019 | Win/lose count 16.0/1.0 (15.0)\n",
            "new episode : 17\n",
            "Epoch 017/050 | Loss 0.0022 | Win/lose count 6.0/1.0 (5.0)\n",
            "new episode : 18\n",
            "Epoch 018/050 | Loss 0.0009 | Win/lose count 4.0/1.0 (3.0)\n",
            "new episode : 19\n",
            "Epoch 019/050 | Loss 0.0012 | Win/lose count 28.0/0 (28.0)\n",
            "new episode : 20\n",
            "Epoch 020/050 | Loss 0.0011 | Win/lose count 10.0/1.0 (9.0)\n",
            "new episode : 21\n",
            "Epoch 021/050 | Loss 0.0012 | Win/lose count 32.0/1.0 (31.0)\n",
            "new episode : 22\n",
            "Epoch 022/050 | Loss 0.0017 | Win/lose count 15.0/0 (15.0)\n",
            "new episode : 23\n",
            "Epoch 023/050 | Loss 0.0020 | Win/lose count 11.0/0 (11.0)\n",
            "new episode : 24\n",
            "Epoch 024/050 | Loss 0.0025 | Win/lose count 11.0/0 (11.0)\n",
            "new episode : 25\n",
            "Epoch 025/050 | Loss 0.0011 | Win/lose count 24.5/0 (24.5)\n",
            "new episode : 26\n",
            "Epoch 026/050 | Loss 0.0024 | Win/lose count 26.0/0 (26.0)\n",
            "new episode : 27\n",
            "Epoch 027/050 | Loss 0.0010 | Win/lose count 26.0/0 (26.0)\n",
            "new episode : 28\n",
            "Epoch 028/050 | Loss 0.0015 | Win/lose count 15.5/0 (15.5)\n",
            "new episode : 29\n",
            "Epoch 029/050 | Loss 0.0025 | Win/lose count 23.0/0 (23.0)\n",
            "new episode : 30\n",
            "Epoch 030/050 | Loss 0.0022 | Win/lose count 24.0/2.0 (22.0)\n",
            "new episode : 31\n",
            "Epoch 031/050 | Loss 0.0020 | Win/lose count 27.0/1.0 (26.0)\n",
            "new episode : 32\n",
            "Epoch 032/050 | Loss 0.0014 | Win/lose count 41.5/0 (41.5)\n",
            "new episode : 33\n",
            "Epoch 033/050 | Loss 0.0015 | Win/lose count 27.5/0 (27.5)\n",
            "new episode : 34\n",
            "Epoch 034/050 | Loss 0.0015 | Win/lose count 12.5/0 (12.5)\n",
            "new episode : 35\n",
            "Epoch 035/050 | Loss 0.0067 | Win/lose count 9.5/1.0 (8.5)\n",
            "new episode : 36\n",
            "Epoch 036/050 | Loss 0.0559 | Win/lose count 12.5/0 (12.5)\n",
            "new episode : 37\n",
            "Epoch 037/050 | Loss 0.0010 | Win/lose count 31.5/0 (31.5)\n",
            "new episode : 38\n",
            "Epoch 038/050 | Loss 0.0023 | Win/lose count 22.5/0 (22.5)\n",
            "new episode : 39\n",
            "Epoch 039/050 | Loss 0.0024 | Win/lose count 24.0/0 (24.0)\n",
            "new episode : 40\n",
            "Epoch 040/050 | Loss 0.0019 | Win/lose count 16.0/1.0 (15.0)\n",
            "new episode : 41\n",
            "Epoch 041/050 | Loss 0.0496 | Win/lose count 25.5/0 (25.5)\n",
            "new episode : 42\n",
            "Epoch 042/050 | Loss 0.0013 | Win/lose count 8.5/0 (8.5)\n",
            "new episode : 43\n",
            "Epoch 043/050 | Loss 0.0479 | Win/lose count 23.5/0 (23.5)\n",
            "new episode : 44\n",
            "Epoch 044/050 | Loss 0.0014 | Win/lose count 22.5/0 (22.5)\n",
            "new episode : 45\n",
            "Epoch 045/050 | Loss 0.0017 | Win/lose count 18.0/0 (18.0)\n",
            "new episode : 46\n",
            "Epoch 046/050 | Loss 0.0017 | Win/lose count 19.0/0 (19.0)\n",
            "new episode : 47\n",
            "Epoch 047/050 | Loss 0.0026 | Win/lose count 9.5/0 (9.5)\n",
            "new episode : 48\n",
            "Epoch 048/050 | Loss 0.0441 | Win/lose count 32.5/0 (32.5)\n",
            "new episode : 49\n",
            "Epoch 049/050 | Loss 0.0009 | Win/lose count 22.0/0 (22.0)\n"
          ],
          "name": "stdout"
        },
        {
          "output_type": "execute_result",
          "data": {
            "text/html": [
              "<video alt=\"test\" controls>\n",
              "                <source src=\"data:video/mp4;base64,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\" type=\"video/mp4\" />\n",
              "             </video>"
            ],
            "text/plain": [
              "<IPython.core.display.HTML object>"
            ]
          },
          "metadata": {
            "tags": []
          },
          "execution_count": 33
        }
      ]
    },
    {
      "metadata": {
        "id": "0_OfSw2YywJS",
        "colab_type": "code",
        "colab": {}
      },
      "cell_type": "code",
      "source": [
        "def testexp(agent,env,epochs,prefix=''):\n",
        "    # Number of won games\n",
        "    score = 0\n",
        "        \n",
        "    for e in range(epochs):\n",
        "      state = env.reset()\n",
        "      # This assumes that the games will end\n",
        "      game_over = False\n",
        "\n",
        "      win = 0\n",
        "      lose = 0\n",
        "\n",
        "      while not game_over:\n",
        "          # The agent performs an action\n",
        "          action = agent.act(state)\n",
        "\n",
        "          # Apply an action to the environment, get the next state, the reward\n",
        "          # and if the games end\n",
        "          prev_state = state\n",
        "          state, reward, game_over = env.act(action, train=False)\n",
        "\n",
        "          # Update the counters\n",
        "          if reward > 0:\n",
        "              win = win + reward\n",
        "          if reward < 0:\n",
        "              lose = lose -reward\n",
        "\n",
        "          # Apply the reinforcement strategy\n",
        "          loss = agent.reinforce(prev_state, state,  action, reward, game_over)\n",
        "\n",
        "        \n",
        "        \n",
        "        ##### FILL IN HERE\n",
        "        \n",
        "      # Save as a mp4\n",
        "      env.draw(prefix+str(e))\n",
        "\n",
        "      # Update stats\n",
        "      score = score + win-lose\n",
        "\n",
        "      print(\"Win/lose count {}/{}. Average score ({})\"\n",
        "            .format(win, lose, score/(1+e)))\n",
        "      print('Final score: '+str(score/epochs))"
      ],
      "execution_count": 0,
      "outputs": []
    },
    {
      "metadata": {
        "id": "vRrEfJhVn-ch",
        "colab_type": "code",
        "outputId": "f904c163-8339-4904-c616-ce03f2c32076",
        "colab": {
          "base_uri": "https://localhost:8080/",
          "height": 648
        }
      },
      "cell_type": "code",
      "source": [
        "# Evaluation\n",
        "testexp(agent,env,epochs_test,prefix='cnn_test_explore')\n",
        "HTML(display_videos('cnn_test_explore0.mp4'))"
      ],
      "execution_count": 0,
      "outputs": [
        {
          "output_type": "stream",
          "text": [
            "Win/lose count 3.5/0. Average score (3.5)\n",
            "Final score: 0.35\n",
            "Win/lose count 30.0/3.0. Average score (15.25)\n",
            "Final score: 3.05\n",
            "Win/lose count 25.5/1.0. Average score (18.333333333333332)\n",
            "Final score: 5.5\n",
            "Win/lose count 15.0/1.0. Average score (17.25)\n",
            "Final score: 6.9\n",
            "Win/lose count 31.5/0. Average score (20.1)\n",
            "Final score: 10.05\n",
            "Win/lose count 3.5/1.0. Average score (17.166666666666668)\n",
            "Final score: 10.3\n",
            "Win/lose count 36.0/2.0. Average score (19.571428571428573)\n",
            "Final score: 13.7\n",
            "Win/lose count 14.0/0. Average score (18.875)\n",
            "Final score: 15.1\n",
            "Win/lose count 13.5/1.0. Average score (18.166666666666668)\n",
            "Final score: 16.35\n",
            "Win/lose count 19.0/2.0. Average score (18.05)\n",
            "Final score: 18.05\n"
          ],
          "name": "stdout"
        },
        {
          "output_type": "execute_result",
          "data": {
            "text/html": [
              "<video alt=\"test\" controls>\n",
              "                <source src=\"data:video/mp4;base64,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\" type=\"video/mp4\" />\n",
              "             </video>"
            ],
            "text/plain": [
              "<IPython.core.display.HTML object>"
            ]
          },
          "metadata": {
            "tags": []
          },
          "execution_count": 37
        }
      ]
    },
    {
      "metadata": {
        "id": "h1D3xTI1aHSc",
        "colab_type": "text"
      },
      "cell_type": "markdown",
      "source": [
        "We can see here that adding the malus board makes the average score. For temperature= 0.5 , CNN without exploration incentives reached an average score of 9.9. With exploration incentives, mainly the negative reward coming from malus_position, we reach and average score of 18.05."
      ]
    },
    {
      "metadata": {
        "id": "insrsU68n-cl",
        "colab_type": "text"
      },
      "cell_type": "markdown",
      "source": [
        "***\n",
        "***\n",
        "__BONUS question__ Use the expert DQN from the previous question to generate some winning games. Train a model that mimicks its behavior. Compare the performances."
      ]
    },
    {
      "metadata": {
        "id": "K-9rT-Umn-cl",
        "colab_type": "text"
      },
      "cell_type": "markdown",
      "source": [
        ""
      ]
    },
    {
      "metadata": {
        "id": "v7e07Uy2n-cm",
        "colab_type": "text"
      },
      "cell_type": "markdown",
      "source": [
        "***"
      ]
    }
  ]
}